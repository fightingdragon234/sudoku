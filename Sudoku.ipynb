{
 "cells": [
  {
   "cell_type": "code",
   "execution_count": 79,
   "metadata": {},
   "outputs": [
    {
     "name": "stdout",
     "output_type": "stream",
     "text": [
      "d\n",
      "[2, 1, 3]\n",
      "e\n",
      "[3, 2, 1]\n",
      "r\n",
      "[1, 3, 2]\n",
      "['_', '1', '_']\n",
      "['3', '_', '_']\n",
      "['1', '_', '_']\n"
     ]
    }
   ],
   "source": [
    "# import random\n",
    "e=random.sample(range(1,4),3)\n",
    "d=[1,1,1]\n",
    "r=[1,1,1]\n",
    "while True:\n",
    "    d[0]=random.sample([1,2,3],1)[0]\n",
    "    if d[0]!=e[0]:\n",
    "        d[1]=random.sample([1,2,3],1)[0]\n",
    "        if (d[1]!=e[1])and(d[1]!=d[0]):\n",
    "            d[2]=random.sample([1,2,3],1)[0]\n",
    "            if (d[2]!=e[2])and(d[2]!=d[1])and(d[2]!=d[0]):\n",
    "                print('d')\n",
    "                print(d)\n",
    "                print('e')\n",
    "                print(e)\n",
    "                break\n",
    "while True:\n",
    "    r[0]=random.sample([1,2,3],1)[0]\n",
    "    if (r[0]!=e[0])and(r[0]!=d[0]):\n",
    "        r[1]=random.sample([1,2,3],1)[0]\n",
    "        if (r[1]!=e[1])and(r[1]!=d[1]):\n",
    "            r[2]=random.sample([1,2,3],1)[0]\n",
    "            if (r[2]!=e[2])and(r[2]!=d[2]):\n",
    "                print('r')\n",
    "                print(r)\n",
    "                break\n",
    "h=[0,0,0]\n",
    "g=random.randint(0,2)\n",
    "h[g]=1\n",
    "l=['_','_','_']\n",
    "for i in range(0,3):\n",
    "    if h[i]==1:\n",
    "        l[i]=str(d[i])\n",
    "print(l)\n",
    "m=[0,0,0]\n",
    "g=random.randint(0,2)\n",
    "m[g]=1\n",
    "j=['_','_','_']\n",
    "for t in range(0,3):   \n",
    "    if m[t]==1:\n",
    "        j[t]=str(e[t])\n",
    "print(j)\n",
    "o=[0,0,0]\n",
    "g=random.randint(0,2)\n",
    "o[g]=1\n",
    "b=['_','_','_']\n",
    "for u in range(0,3):   \n",
    "    if o[u]==1:\n",
    "        b[u]=str(r[u])\n",
    "print(b)"
   ]
  },
  {
   "cell_type": "code",
   "execution_count": 169,
   "metadata": {},
   "outputs": [
    {
     "data": {
      "text/plain": [
       "[1]"
      ]
     },
     "execution_count": 169,
     "metadata": {},
     "output_type": "execute_result"
    }
   ],
   "source": [
    "random.sample([1,3],1)"
   ]
  },
  {
   "cell_type": "code",
   "execution_count": 167,
   "metadata": {},
   "outputs": [
    {
     "data": {
      "text/plain": [
       "[1, 2, 3]"
      ]
     },
     "execution_count": 167,
     "metadata": {},
     "output_type": "execute_result"
    }
   ],
   "source": [
    "d"
   ]
  },
  {
   "cell_type": "code",
   "execution_count": 168,
   "metadata": {},
   "outputs": [
    {
     "data": {
      "text/plain": [
       "[3, 1, 2]"
      ]
     },
     "execution_count": 168,
     "metadata": {},
     "output_type": "execute_result"
    }
   ],
   "source": [
    "e"
   ]
  },
  {
   "cell_type": "code",
   "execution_count": 220,
   "metadata": {},
   "outputs": [
    {
     "name": "stdout",
     "output_type": "stream",
     "text": [
      "[0, 1, 0]\n"
     ]
    }
   ],
   "source": [
    "h=[0,0,0]\n",
    "g=random.randint(0,2)\n",
    "h[g]=1\n",
    "print(h)"
   ]
  },
  {
   "cell_type": "code",
   "execution_count": 214,
   "metadata": {},
   "outputs": [
    {
     "data": {
      "text/plain": [
       "3"
      ]
     },
     "execution_count": 214,
     "metadata": {},
     "output_type": "execute_result"
    }
   ],
   "source": [
    "g"
   ]
  },
  {
   "cell_type": "code",
   "execution_count": null,
   "metadata": {},
   "outputs": [],
   "source": []
  }
 ],
 "metadata": {
  "kernelspec": {
   "display_name": "Python 3",
   "language": "python",
   "name": "python3"
  },
  "language_info": {
   "codemirror_mode": {
    "name": "ipython",
    "version": 3
   },
   "file_extension": ".py",
   "mimetype": "text/x-python",
   "name": "python",
   "nbconvert_exporter": "python",
   "pygments_lexer": "ipython3",
   "version": "3.7.4"
  }
 },
 "nbformat": 4,
 "nbformat_minor": 2
}
